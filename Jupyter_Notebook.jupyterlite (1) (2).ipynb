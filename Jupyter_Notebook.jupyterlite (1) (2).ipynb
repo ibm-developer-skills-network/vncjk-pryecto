{
 "cells": [
  {
   "cell_type": "markdown",
   "metadata": {},
   "source": [
    "<center>\n",
    "    <img src=\"https://s3-api.us-geo.objectstorage.softlayer.net/cf-courses-data/CognitiveClass/Logos/organization_logo/organization_logo.png\" width=\"300\" alt=\"cognitiveclass.ai logo\"  />\n",
    "</center>\n"
   ]
  },
  {
   "cell_type": "markdown",
   "metadata": {},
   "source": [
    "#### Agregue su código a continuación siguiendo las instrucciones dadas en el curso\n"
   ]
  },
  {
   "cell_type": "markdown",
   "metadata": {},
   "source": [
    "# My Jupyter Notebook on IBM Watson Studio\n",
    "\n"
   ]
  },
  {
   "cell_type": "markdown",
   "metadata": {},
   "source": [
    "**JUDA ISRAEL PANTOJA HERNANDEZ**\n",
    "\n",
    "Actualmente trabajo en banjercito, mi objetivo es volverme analista.\n",
    "\n"
   ]
  },
  {
   "cell_type": "markdown",
   "metadata": {},
   "source": [
    "*me interesa la cienca de datos por que es una carrera muy similar al actuarial, manejas un nivel matematico alto*\n",
    "\n",
    "*me gusta el manejo de informacion masiva, y las ciencia de datos te da las herramientas para trabajarlas*\n"
   ]
  },
  {
   "cell_type": "markdown",
   "metadata": {},
   "source": [
    "***EL CODIGO VA A IMPRIMIR EL TEXTO, Y TAMBIEN HARA LA ECUACION DE  POTENCIA DE 7 ELEVADO A LA 8***"
   ]
  },
  {
   "cell_type": "code",
   "execution_count": 21,
   "metadata": {},
   "outputs": [
    {
     "name": "stdout",
     "output_type": "stream",
     "text": [
      "hola compañeros soy judá israel pantoja hernandez a continuacion veremos potencias\n"
     ]
    },
    {
     "data": {
      "text/plain": [
       "5764801"
      ]
     },
     "execution_count": 21,
     "metadata": {},
     "output_type": "execute_result"
    }
   ],
   "source": [
    "print(\"hola compañeros soy judá israel pantoja hernandez a continuacion veremos potencias\")\n",
    "7 ** 8\n",
    "\n"
   ]
  },
  {
   "cell_type": "code",
   "execution_count": 27,
   "metadata": {},
   "outputs": [],
   "source": [
    "lista_super=[\"LACTEOS\", \"ABARROTES\", \"LIMPIEZA\"]\n"
   ]
  },
  {
   "cell_type": "code",
   "execution_count": 33,
   "metadata": {},
   "outputs": [
    {
     "data": {
      "text/plain": [
       "('LACTEOS', 'ABARROTES', 'LIMPIEZA')"
      ]
     },
     "execution_count": 33,
     "metadata": {},
     "output_type": "execute_result"
    }
   ],
   "source": [
    "lista_super[0], lista_super[1],lista_super[2]\n"
   ]
  },
  {
   "cell_type": "markdown",
   "metadata": {},
   "source": [
    "* JUDA\n",
    "* ISRAEL\n",
    "* PANTOJA           \n",
    "\n",
    "1. JUDA\n",
    "2. ISRAEL\n",
    "3. PANTOJA\n",
    "\n",
    "ESTE ES UN HIPERVINCULO A EL PROPIO LIBRO (https://labs.cognitiveclass.ai/v2/tools/jupyterlite?ulid=ulid-97095aa7da407ee6af926fed9236340a0ff4ae8b)\n",
    "\n",
    "\n"
   ]
  },
  {
   "cell_type": "code",
   "execution_count": null,
   "metadata": {},
   "outputs": [],
   "source": [
    "LA CELDA 5 INCLUYO, VIÑETAS, LISTADO DE NUMERO E HYPERVINCULO"
   ]
  }
 ],
 "metadata": {
  "kernelspec": {
   "display_name": "Python",
   "language": "python",
   "name": "conda-env-python-py"
  },
  "language_info": {
   "codemirror_mode": {
    "name": "ipython",
    "version": 3
   },
   "file_extension": ".py",
   "mimetype": "text/x-python",
   "name": "python",
   "nbconvert_exporter": "python",
   "pygments_lexer": "ipython3",
   "version": "3.7.12"
  },
  "toc-autonumbering": false
 },
 "nbformat": 4,
 "nbformat_minor": 4
}
